{
 "cells": [
  {
   "cell_type": "code",
   "execution_count": 1,
   "id": "8e9547d6",
   "metadata": {},
   "outputs": [
    {
     "name": "stdout",
     "output_type": "stream",
     "text": [
      "hello kalash, m jupyter UI s bol rha hu!!!\n"
     ]
    }
   ],
   "source": [
    "print(\"hello kalash, m jupyter UI s bol rha hu!!!\")"
   ]
  },
  {
   "cell_type": "code",
   "execution_count": 8,
   "id": "6eeda72d",
   "metadata": {},
   "outputs": [
    {
     "name": "stdout",
     "output_type": "stream",
     "text": [
      "Enter the number to get the value - 58.36\n",
      "The Conversion of Celsius to Farenhite of the number  58.36 °F is  14.644444444444444 °C...\n"
     ]
    }
   ],
   "source": [
    "\n",
    "farenhite= float(input(\"Enter the number to get the value - \")) or float(input(\"Enter the number to get the value - \"))\n",
    "celsius = 0\n",
    "\n",
    "while True:\n",
    "   celsius = 5/9 * (farenhite-32)\n",
    "   print(\"The Conversion of Celsius to Farenhite of the number \", farenhite,\"°F is \",celsius, \"°C...\")\n",
    "   break;\n",
    "\n",
    "\n"
   ]
  },
  {
   "cell_type": "code",
   "execution_count": 2,
   "id": "a4fc5676",
   "metadata": {},
   "outputs": [
    {
     "name": "stdout",
     "output_type": "stream",
     "text": [
      "HELLO KALASH, I'M FROM CANADA..\n"
     ]
    }
   ],
   "source": [
    "s = 'Hello Kalash, I\\'m from canada..'\n",
    "c = s.upper()\n",
    "print(c)"
   ]
  },
  {
   "cell_type": "code",
   "execution_count": 3,
   "id": "ac690826",
   "metadata": {},
   "outputs": [
    {
     "name": "stdout",
     "output_type": "stream",
     "text": [
      "hello kalash, i'm from canada..\n"
     ]
    }
   ],
   "source": [
    "v = c.lower()\n",
    "print(v)"
   ]
  },
  {
   "cell_type": "code",
   "execution_count": 4,
   "id": "a0951c2b",
   "metadata": {},
   "outputs": [
    {
     "name": "stdout",
     "output_type": "stream",
     "text": [
      "Kalash is my name...\n"
     ]
    }
   ],
   "source": [
    "a = ('Kalsh is my name...')\n",
    "b = a.replace('Kalsh','Kalash')\n",
    "print(b)"
   ]
  },
  {
   "cell_type": "code",
   "execution_count": 1,
   "id": "185ed736",
   "metadata": {},
   "outputs": [
    {
     "ename": "ValueError",
     "evalue": "could not convert string to float: ''",
     "output_type": "error",
     "traceback": [
      "\u001b[1;31m---------------------------------------------------------------------------\u001b[0m",
      "\u001b[1;31mValueError\u001b[0m                                Traceback (most recent call last)",
      "Cell \u001b[1;32mIn[1], line 4\u001b[0m\n\u001b[0;32m      1\u001b[0m \u001b[39m'''\u001b[39;00m\n\u001b[0;32m      2\u001b[0m \u001b[39m5/9 x (F-32)\u001b[39;00m\n\u001b[0;32m      3\u001b[0m \u001b[39m'''\u001b[39;00m\n\u001b[1;32m----> 4\u001b[0m farenhite\u001b[39m=\u001b[39m \u001b[39mfloat\u001b[39;49m(\u001b[39minput\u001b[39;49m(\u001b[39m\"\u001b[39;49m\u001b[39mEnter the number to get the value - \u001b[39;49m\u001b[39m\"\u001b[39;49m)) \u001b[39mor\u001b[39;00m \u001b[39mfloat\u001b[39m(\u001b[39minput\u001b[39m(\u001b[39m\"\u001b[39m\u001b[39mEnter the number to get the value - \u001b[39m\u001b[39m\"\u001b[39m))\n\u001b[0;32m      5\u001b[0m celsius \u001b[39m=\u001b[39m \u001b[39m0\u001b[39m\n\u001b[0;32m      7\u001b[0m \u001b[39mwhile\u001b[39;00m farenhite:\n",
      "\u001b[1;31mValueError\u001b[0m: could not convert string to float: ''"
     ]
    }
   ],
   "source": [
    "'''\n",
    "5/9 x (F-32)\n",
    "'''\n",
    "farenhite= float(input(\"Enter the number to get the value - \")) or float(input(\"Enter the number to get the value - \"))\n",
    "celsius = 0\n",
    "\n",
    "while farenhite:\n",
    "   celsius = 5/9 * (farenhite-32)\n",
    "   print(\"The Conversion of Celsius to Farenhite of the number \", farenhite,\"°F is \",celsius, \"°C...\")\n",
    "   break\n",
    "\n",
    "'''\n",
    "5/9 x (F-32)\n",
    "'''\n"
   ]
  },
  {
   "cell_type": "code",
   "execution_count": null,
   "id": "d35f9946",
   "metadata": {},
   "outputs": [],
   "source": []
  }
 ],
 "metadata": {
  "kernelspec": {
   "display_name": "Python 3 (ipykernel)",
   "language": "python",
   "name": "python3"
  },
  "language_info": {
   "codemirror_mode": {
    "name": "ipython",
    "version": 3
   },
   "file_extension": ".py",
   "mimetype": "text/x-python",
   "name": "python",
   "nbconvert_exporter": "python",
   "pygments_lexer": "ipython3",
   "version": "3.10.9"
  },
  "vscode": {
   "interpreter": {
    "hash": "1f3b11d665a56086d6adb74bdfbff420d392b6d71401e6ed0ef0fc02b121a453"
   }
  }
 },
 "nbformat": 4,
 "nbformat_minor": 5
}
