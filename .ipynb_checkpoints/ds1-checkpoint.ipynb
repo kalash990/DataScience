{
 "cells": [
  {
   "cell_type": "code",
   "execution_count": 1,
   "id": "8e9547d6",
   "metadata": {},
   "outputs": [
    {
     "name": "stdout",
     "output_type": "stream",
     "text": [
      "hello kalash, m jupyter UI s bol rha hu!!!\n"
     ]
    }
   ],
   "source": [
    "print(\"hello kalash, m jupyter UI s bol rha hu!!!\")"
   ]
  },
  {
   "cell_type": "code",
   "execution_count": 3,
   "id": "6eeda72d",
   "metadata": {},
   "outputs": [
    {
     "name": "stdout",
     "output_type": "stream",
     "text": [
      "Enter the number to get the value - 78.5\n",
      "The Conversion of Celsius to Farenhite of the number  78.5 °F is  25.833333333333336 °C...\n"
     ]
    }
   ],
   "source": [
    "\n",
    "farenhite= float(input(\"Enter the number to get the value - \")) or float(input(\"Enter the number to get the value - \"))\n",
    "celsius = 0\n",
    "\n",
    "while farenhite:\n",
    "   celsius = 5/9 * (farenhite-32)\n",
    "   print(\"The Conversion of Celsius to Farenhite of the number \", farenhite,\"°F is \",celsius, \"°C...\")\n",
    "   break;\n",
    "\n",
    "\n"
   ]
  },
  {
   "cell_type": "code",
   "execution_count": null,
   "id": "2ec8712d",
   "metadata": {},
   "outputs": [],
   "source": []
  }
 ],
 "metadata": {
  "kernelspec": {
   "display_name": "Python 3 (ipykernel)",
   "language": "python",
   "name": "python3"
  },
  "language_info": {
   "codemirror_mode": {
    "name": "ipython",
    "version": 3
   },
   "file_extension": ".py",
   "mimetype": "text/x-python",
   "name": "python",
   "nbconvert_exporter": "python",
   "pygments_lexer": "ipython3",
   "version": "3.9.13"
  },
  "vscode": {
   "interpreter": {
    "hash": "1f3b11d665a56086d6adb74bdfbff420d392b6d71401e6ed0ef0fc02b121a453"
   }
  }
 },
 "nbformat": 4,
 "nbformat_minor": 5
}
