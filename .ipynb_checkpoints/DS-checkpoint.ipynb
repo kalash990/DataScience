{
 "cells": [
  {
   "cell_type": "code",
   "execution_count": 1,
   "id": "a365f424",
   "metadata": {},
   "outputs": [
    {
     "name": "stdout",
     "output_type": "stream",
     "text": [
      "hello\n"
     ]
    }
   ],
   "source": [
    "print(\"hello\")"
   ]
  },
  {
   "cell_type": "code",
   "execution_count": 2,
   "id": "c4900bc6",
   "metadata": {},
   "outputs": [
    {
     "name": "stdout",
     "output_type": "stream",
     "text": [
      "('yr please mtt kro na', ' kya hua??')\n"
     ]
    }
   ],
   "source": [
    "x = \"yr please mtt kro na\"\n",
    "y = \" kya hua??\"\n",
    "z = x, y\n",
    "print(z)"
   ]
  },
  {
   "cell_type": "code",
   "execution_count": 1,
   "id": "fc539ea3",
   "metadata": {},
   "outputs": [
    {
     "name": "stdout",
     "output_type": "stream",
     "text": [
      "Enter the number to get the value - 58.36\n",
      "The Conversion of Celsius to Farenhite of the number  58.36 °F is  14.644444444444444 °C...\n"
     ]
    },
    {
     "data": {
      "text/plain": [
       "'\\n5/9 x (F-32)\\n'"
      ]
     },
     "execution_count": 1,
     "metadata": {},
     "output_type": "execute_result"
    }
   ],
   "source": [
    "'''\n",
    "5/9 x (F-32)\n",
    "'''\n",
    "farenhite= float(input(\"Enter the number to get the value - \")) \n",
    "celsius = 0\n",
    "\n",
    "while farenhite:\n",
    "   celsius = 5/9 * (farenhite-32)\n",
    "   print(\"The Conversion of Celsius to Farenhite of the number \", farenhite,\"°F is \",celsius, \"°C...\")\n",
    "   break\n",
    "\n",
    "'''\n",
    "5/9 x (F-32)\n",
    "'''\n"
   ]
  },
  {
   "cell_type": "code",
   "execution_count": null,
   "id": "44749f39",
   "metadata": {},
   "outputs": [],
   "source": []
  }
 ],
 "metadata": {
  "kernelspec": {
   "display_name": "Python 3 (ipykernel)",
   "language": "python",
   "name": "python3"
  },
  "language_info": {
   "codemirror_mode": {
    "name": "ipython",
    "version": 3
   },
   "file_extension": ".py",
   "mimetype": "text/x-python",
   "name": "python",
   "nbconvert_exporter": "python",
   "pygments_lexer": "ipython3",
   "version": "3.9.13"
  },
  "vscode": {
   "interpreter": {
    "hash": "1f3b11d665a56086d6adb74bdfbff420d392b6d71401e6ed0ef0fc02b121a453"
   }
  }
 },
 "nbformat": 4,
 "nbformat_minor": 5
}
